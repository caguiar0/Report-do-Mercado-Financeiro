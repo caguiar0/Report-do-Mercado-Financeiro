{
 "cells": [
  {
   "cell_type": "markdown",
   "id": "cec4baad-0ec4-4480-99b0-4d376c7e1345",
   "metadata": {},
   "source": [
    "# Projeto 1: Report de mercado\n",
    "\n",
    "### Desafio:\n",
    "* Automação de um relatório de fechamento de mercado com o Python através da coleta de cotações históricas do Ibovespa e Dólar e do envio diário através de uma ferramenta de e-mail automaticamente.  \n",
    "\n",
    "### Passo a passo:\n",
    "\n",
    "*   **Passo 1** - Instalar e importar os módulos e bibliotecas.\n",
    "   \n",
    "   \n",
    "*   **Passo 2** - Pegar as cotações históricas.\n",
    "   \n",
    "   \n",
    "*   **Passo 3** - Tratar dados coletados.\n",
    "   \n",
    "   \n",
    "*   **Passo 4** - Criar gráficos de performance.\n",
    "   \n",
    "   \n",
    "*   **Passo 5** - Calcular retornos diários.\n",
    "   \n",
    "   \n",
    "*   **Passo 6** - Configurar e enviar o e-mail."
   ]
  },
  {
   "cell_type": "markdown",
   "id": "3488b9f8-348c-4276-a034-2236f9014225",
   "metadata": {},
   "source": [
    "# Passo 1 - Instalar e importar bibliotecas"
   ]
  },
  {
   "cell_type": "code",
   "execution_count": 3,
   "id": "6e5d26b7-f7b4-4ba7-8d53-a36e7c8bd290",
   "metadata": {},
   "outputs": [],
   "source": [
    "import yfinance as yf\n",
    "import pandas as pd\n",
    "import matplotlib.pyplot as plt\n",
    "import mplcyberpunk"
   ]
  },
  {
   "cell_type": "markdown",
   "id": "1ce87cd3-1687-4e4c-a3b2-beb2ba98ccea",
   "metadata": {},
   "source": [
    "# Passo 2 - Pegar as cotações históricas"
   ]
  },
  {
   "cell_type": "code",
   "execution_count": 5,
   "id": "e5ddcd47-afb4-40d0-b7dc-e969148a96f7",
   "metadata": {},
   "outputs": [],
   "source": [
    "tickers = [\"^BVSP\", \"^GSPC\", \"BRL=X\"]"
   ]
  },
  {
   "cell_type": "code",
   "execution_count": 7,
   "id": "e01e00a8-0a0d-4d56-a656-2b0af97636f7",
   "metadata": {},
   "outputs": [
    {
     "name": "stderr",
     "output_type": "stream",
     "text": [
      "[*********************100%***********************]  3 of 3 completed\n"
     ]
    },
    {
     "data": {
      "text/html": [
       "<div>\n",
       "<style scoped>\n",
       "    .dataframe tbody tr th:only-of-type {\n",
       "        vertical-align: middle;\n",
       "    }\n",
       "\n",
       "    .dataframe tbody tr th {\n",
       "        vertical-align: top;\n",
       "    }\n",
       "\n",
       "    .dataframe thead th {\n",
       "        text-align: right;\n",
       "    }\n",
       "</style>\n",
       "<table border=\"1\" class=\"dataframe\">\n",
       "  <thead>\n",
       "    <tr style=\"text-align: right;\">\n",
       "      <th>Ticker</th>\n",
       "      <th>BRL=X</th>\n",
       "      <th>^BVSP</th>\n",
       "      <th>^GSPC</th>\n",
       "    </tr>\n",
       "    <tr>\n",
       "      <th>Date</th>\n",
       "      <th></th>\n",
       "      <th></th>\n",
       "      <th></th>\n",
       "    </tr>\n",
       "  </thead>\n",
       "  <tbody>\n",
       "    <tr>\n",
       "      <th>2024-03-13 00:00:00+00:00</th>\n",
       "      <td>4.968700</td>\n",
       "      <td>128006.0</td>\n",
       "      <td>NaN</td>\n",
       "    </tr>\n",
       "    <tr>\n",
       "      <th>2024-03-14 00:00:00+00:00</th>\n",
       "      <td>4.969200</td>\n",
       "      <td>127690.0</td>\n",
       "      <td>5150.479980</td>\n",
       "    </tr>\n",
       "    <tr>\n",
       "      <th>2024-03-15 00:00:00+00:00</th>\n",
       "      <td>4.992700</td>\n",
       "      <td>126742.0</td>\n",
       "      <td>5117.089844</td>\n",
       "    </tr>\n",
       "    <tr>\n",
       "      <th>2024-03-18 00:00:00+00:00</th>\n",
       "      <td>4.968047</td>\n",
       "      <td>126954.0</td>\n",
       "      <td>5149.419922</td>\n",
       "    </tr>\n",
       "    <tr>\n",
       "      <th>2024-03-19 00:00:00+00:00</th>\n",
       "      <td>5.029400</td>\n",
       "      <td>127529.0</td>\n",
       "      <td>5178.509766</td>\n",
       "    </tr>\n",
       "    <tr>\n",
       "      <th>...</th>\n",
       "      <td>...</td>\n",
       "      <td>...</td>\n",
       "      <td>...</td>\n",
       "    </tr>\n",
       "    <tr>\n",
       "      <th>2024-09-09 00:00:00+00:00</th>\n",
       "      <td>5.596600</td>\n",
       "      <td>134737.0</td>\n",
       "      <td>5471.049805</td>\n",
       "    </tr>\n",
       "    <tr>\n",
       "      <th>2024-09-10 00:00:00+00:00</th>\n",
       "      <td>5.584300</td>\n",
       "      <td>134320.0</td>\n",
       "      <td>5495.520020</td>\n",
       "    </tr>\n",
       "    <tr>\n",
       "      <th>2024-09-11 00:00:00+00:00</th>\n",
       "      <td>5.662900</td>\n",
       "      <td>134677.0</td>\n",
       "      <td>5554.129883</td>\n",
       "    </tr>\n",
       "    <tr>\n",
       "      <th>2024-09-12 00:00:00+00:00</th>\n",
       "      <td>5.667400</td>\n",
       "      <td>134029.0</td>\n",
       "      <td>5595.759766</td>\n",
       "    </tr>\n",
       "    <tr>\n",
       "      <th>2024-09-13 00:00:00+00:00</th>\n",
       "      <td>NaN</td>\n",
       "      <td>134882.0</td>\n",
       "      <td>5626.020020</td>\n",
       "    </tr>\n",
       "  </tbody>\n",
       "</table>\n",
       "<p>133 rows × 3 columns</p>\n",
       "</div>"
      ],
      "text/plain": [
       "Ticker                        BRL=X     ^BVSP        ^GSPC\n",
       "Date                                                      \n",
       "2024-03-13 00:00:00+00:00  4.968700  128006.0          NaN\n",
       "2024-03-14 00:00:00+00:00  4.969200  127690.0  5150.479980\n",
       "2024-03-15 00:00:00+00:00  4.992700  126742.0  5117.089844\n",
       "2024-03-18 00:00:00+00:00  4.968047  126954.0  5149.419922\n",
       "2024-03-19 00:00:00+00:00  5.029400  127529.0  5178.509766\n",
       "...                             ...       ...          ...\n",
       "2024-09-09 00:00:00+00:00  5.596600  134737.0  5471.049805\n",
       "2024-09-10 00:00:00+00:00  5.584300  134320.0  5495.520020\n",
       "2024-09-11 00:00:00+00:00  5.662900  134677.0  5554.129883\n",
       "2024-09-12 00:00:00+00:00  5.667400  134029.0  5595.759766\n",
       "2024-09-13 00:00:00+00:00       NaN  134882.0  5626.020020\n",
       "\n",
       "[133 rows x 3 columns]"
      ]
     },
     "execution_count": 7,
     "metadata": {},
     "output_type": "execute_result"
    }
   ],
   "source": [
    "dados_mercado = yf.download(tickers, period = \"6mo\")\n",
    "dados_mercado = dados_mercado[\"Adj Close\"]\n",
    "dados_mercado"
   ]
  },
  {
   "cell_type": "markdown",
   "id": "2881dcf9-907c-4cc7-ae19-e880331cfb65",
   "metadata": {},
   "source": [
    "# Passo 3 - Tratar dado coletados"
   ]
  },
  {
   "cell_type": "code",
   "execution_count": 9,
   "id": "7e5208db-1d6b-4cea-9876-9f8131f75a39",
   "metadata": {},
   "outputs": [
    {
     "data": {
      "text/html": [
       "<div>\n",
       "<style scoped>\n",
       "    .dataframe tbody tr th:only-of-type {\n",
       "        vertical-align: middle;\n",
       "    }\n",
       "\n",
       "    .dataframe tbody tr th {\n",
       "        vertical-align: top;\n",
       "    }\n",
       "\n",
       "    .dataframe thead th {\n",
       "        text-align: right;\n",
       "    }\n",
       "</style>\n",
       "<table border=\"1\" class=\"dataframe\">\n",
       "  <thead>\n",
       "    <tr style=\"text-align: right;\">\n",
       "      <th>Ticker</th>\n",
       "      <th>BRL=X</th>\n",
       "      <th>^BVSP</th>\n",
       "      <th>^GSPC</th>\n",
       "    </tr>\n",
       "    <tr>\n",
       "      <th>Date</th>\n",
       "      <th></th>\n",
       "      <th></th>\n",
       "      <th></th>\n",
       "    </tr>\n",
       "  </thead>\n",
       "  <tbody>\n",
       "    <tr>\n",
       "      <th>2024-03-14 00:00:00+00:00</th>\n",
       "      <td>4.969200</td>\n",
       "      <td>127690.0</td>\n",
       "      <td>5150.479980</td>\n",
       "    </tr>\n",
       "    <tr>\n",
       "      <th>2024-03-15 00:00:00+00:00</th>\n",
       "      <td>4.992700</td>\n",
       "      <td>126742.0</td>\n",
       "      <td>5117.089844</td>\n",
       "    </tr>\n",
       "    <tr>\n",
       "      <th>2024-03-18 00:00:00+00:00</th>\n",
       "      <td>4.968047</td>\n",
       "      <td>126954.0</td>\n",
       "      <td>5149.419922</td>\n",
       "    </tr>\n",
       "    <tr>\n",
       "      <th>2024-03-19 00:00:00+00:00</th>\n",
       "      <td>5.029400</td>\n",
       "      <td>127529.0</td>\n",
       "      <td>5178.509766</td>\n",
       "    </tr>\n",
       "    <tr>\n",
       "      <th>2024-03-20 00:00:00+00:00</th>\n",
       "      <td>5.030000</td>\n",
       "      <td>129125.0</td>\n",
       "      <td>5224.620117</td>\n",
       "    </tr>\n",
       "    <tr>\n",
       "      <th>...</th>\n",
       "      <td>...</td>\n",
       "      <td>...</td>\n",
       "      <td>...</td>\n",
       "    </tr>\n",
       "    <tr>\n",
       "      <th>2024-09-06 00:00:00+00:00</th>\n",
       "      <td>5.567500</td>\n",
       "      <td>134572.0</td>\n",
       "      <td>5408.419922</td>\n",
       "    </tr>\n",
       "    <tr>\n",
       "      <th>2024-09-09 00:00:00+00:00</th>\n",
       "      <td>5.596600</td>\n",
       "      <td>134737.0</td>\n",
       "      <td>5471.049805</td>\n",
       "    </tr>\n",
       "    <tr>\n",
       "      <th>2024-09-10 00:00:00+00:00</th>\n",
       "      <td>5.584300</td>\n",
       "      <td>134320.0</td>\n",
       "      <td>5495.520020</td>\n",
       "    </tr>\n",
       "    <tr>\n",
       "      <th>2024-09-11 00:00:00+00:00</th>\n",
       "      <td>5.662900</td>\n",
       "      <td>134677.0</td>\n",
       "      <td>5554.129883</td>\n",
       "    </tr>\n",
       "    <tr>\n",
       "      <th>2024-09-12 00:00:00+00:00</th>\n",
       "      <td>5.667400</td>\n",
       "      <td>134029.0</td>\n",
       "      <td>5595.759766</td>\n",
       "    </tr>\n",
       "  </tbody>\n",
       "</table>\n",
       "<p>124 rows × 3 columns</p>\n",
       "</div>"
      ],
      "text/plain": [
       "Ticker                        BRL=X     ^BVSP        ^GSPC\n",
       "Date                                                      \n",
       "2024-03-14 00:00:00+00:00  4.969200  127690.0  5150.479980\n",
       "2024-03-15 00:00:00+00:00  4.992700  126742.0  5117.089844\n",
       "2024-03-18 00:00:00+00:00  4.968047  126954.0  5149.419922\n",
       "2024-03-19 00:00:00+00:00  5.029400  127529.0  5178.509766\n",
       "2024-03-20 00:00:00+00:00  5.030000  129125.0  5224.620117\n",
       "...                             ...       ...          ...\n",
       "2024-09-06 00:00:00+00:00  5.567500  134572.0  5408.419922\n",
       "2024-09-09 00:00:00+00:00  5.596600  134737.0  5471.049805\n",
       "2024-09-10 00:00:00+00:00  5.584300  134320.0  5495.520020\n",
       "2024-09-11 00:00:00+00:00  5.662900  134677.0  5554.129883\n",
       "2024-09-12 00:00:00+00:00  5.667400  134029.0  5595.759766\n",
       "\n",
       "[124 rows x 3 columns]"
      ]
     },
     "execution_count": 9,
     "metadata": {},
     "output_type": "execute_result"
    }
   ],
   "source": [
    "dados_mercado = dados_mercado.dropna()\n",
    "\n",
    "dados_mercado"
   ]
  },
  {
   "cell_type": "code",
   "execution_count": 11,
   "id": "28a8af4c-7e4d-4c46-a0c2-6095fbbbdbe9",
   "metadata": {},
   "outputs": [
    {
     "data": {
      "text/html": [
       "<div>\n",
       "<style scoped>\n",
       "    .dataframe tbody tr th:only-of-type {\n",
       "        vertical-align: middle;\n",
       "    }\n",
       "\n",
       "    .dataframe tbody tr th {\n",
       "        vertical-align: top;\n",
       "    }\n",
       "\n",
       "    .dataframe thead th {\n",
       "        text-align: right;\n",
       "    }\n",
       "</style>\n",
       "<table border=\"1\" class=\"dataframe\">\n",
       "  <thead>\n",
       "    <tr style=\"text-align: right;\">\n",
       "      <th></th>\n",
       "      <th>DOLAR</th>\n",
       "      <th>IBOVESPA</th>\n",
       "      <th>S&amp;P500</th>\n",
       "    </tr>\n",
       "    <tr>\n",
       "      <th>Date</th>\n",
       "      <th></th>\n",
       "      <th></th>\n",
       "      <th></th>\n",
       "    </tr>\n",
       "  </thead>\n",
       "  <tbody>\n",
       "    <tr>\n",
       "      <th>2024-03-14 00:00:00+00:00</th>\n",
       "      <td>4.969200</td>\n",
       "      <td>127690.0</td>\n",
       "      <td>5150.479980</td>\n",
       "    </tr>\n",
       "    <tr>\n",
       "      <th>2024-03-15 00:00:00+00:00</th>\n",
       "      <td>4.992700</td>\n",
       "      <td>126742.0</td>\n",
       "      <td>5117.089844</td>\n",
       "    </tr>\n",
       "    <tr>\n",
       "      <th>2024-03-18 00:00:00+00:00</th>\n",
       "      <td>4.968047</td>\n",
       "      <td>126954.0</td>\n",
       "      <td>5149.419922</td>\n",
       "    </tr>\n",
       "    <tr>\n",
       "      <th>2024-03-19 00:00:00+00:00</th>\n",
       "      <td>5.029400</td>\n",
       "      <td>127529.0</td>\n",
       "      <td>5178.509766</td>\n",
       "    </tr>\n",
       "    <tr>\n",
       "      <th>2024-03-20 00:00:00+00:00</th>\n",
       "      <td>5.030000</td>\n",
       "      <td>129125.0</td>\n",
       "      <td>5224.620117</td>\n",
       "    </tr>\n",
       "    <tr>\n",
       "      <th>...</th>\n",
       "      <td>...</td>\n",
       "      <td>...</td>\n",
       "      <td>...</td>\n",
       "    </tr>\n",
       "    <tr>\n",
       "      <th>2024-09-06 00:00:00+00:00</th>\n",
       "      <td>5.567500</td>\n",
       "      <td>134572.0</td>\n",
       "      <td>5408.419922</td>\n",
       "    </tr>\n",
       "    <tr>\n",
       "      <th>2024-09-09 00:00:00+00:00</th>\n",
       "      <td>5.596600</td>\n",
       "      <td>134737.0</td>\n",
       "      <td>5471.049805</td>\n",
       "    </tr>\n",
       "    <tr>\n",
       "      <th>2024-09-10 00:00:00+00:00</th>\n",
       "      <td>5.584300</td>\n",
       "      <td>134320.0</td>\n",
       "      <td>5495.520020</td>\n",
       "    </tr>\n",
       "    <tr>\n",
       "      <th>2024-09-11 00:00:00+00:00</th>\n",
       "      <td>5.662900</td>\n",
       "      <td>134677.0</td>\n",
       "      <td>5554.129883</td>\n",
       "    </tr>\n",
       "    <tr>\n",
       "      <th>2024-09-12 00:00:00+00:00</th>\n",
       "      <td>5.667400</td>\n",
       "      <td>134029.0</td>\n",
       "      <td>5595.759766</td>\n",
       "    </tr>\n",
       "  </tbody>\n",
       "</table>\n",
       "<p>124 rows × 3 columns</p>\n",
       "</div>"
      ],
      "text/plain": [
       "                              DOLAR  IBOVESPA       S&P500\n",
       "Date                                                      \n",
       "2024-03-14 00:00:00+00:00  4.969200  127690.0  5150.479980\n",
       "2024-03-15 00:00:00+00:00  4.992700  126742.0  5117.089844\n",
       "2024-03-18 00:00:00+00:00  4.968047  126954.0  5149.419922\n",
       "2024-03-19 00:00:00+00:00  5.029400  127529.0  5178.509766\n",
       "2024-03-20 00:00:00+00:00  5.030000  129125.0  5224.620117\n",
       "...                             ...       ...          ...\n",
       "2024-09-06 00:00:00+00:00  5.567500  134572.0  5408.419922\n",
       "2024-09-09 00:00:00+00:00  5.596600  134737.0  5471.049805\n",
       "2024-09-10 00:00:00+00:00  5.584300  134320.0  5495.520020\n",
       "2024-09-11 00:00:00+00:00  5.662900  134677.0  5554.129883\n",
       "2024-09-12 00:00:00+00:00  5.667400  134029.0  5595.759766\n",
       "\n",
       "[124 rows x 3 columns]"
      ]
     },
     "execution_count": 11,
     "metadata": {},
     "output_type": "execute_result"
    }
   ],
   "source": [
    "dados_mercado.columns = [\"DOLAR\", \"IBOVESPA\", \"S&P500\"]\n",
    "\n",
    "dados_mercado"
   ]
  },
  {
   "cell_type": "markdown",
   "id": "0e5c8717-d07c-4185-bbdd-6eafbb16f46b",
   "metadata": {},
   "source": [
    "# Passo 4 - Criar gráficos de performace"
   ]
  },
  {
   "cell_type": "code",
   "execution_count": 13,
   "id": "0dc02a19-11cc-46f9-ac8d-1278c4018428",
   "metadata": {},
   "outputs": [],
   "source": [
    "plt.style.use(\"cyberpunk\")"
   ]
  },
  {
   "cell_type": "code",
   "execution_count": 15,
   "id": "f517d295-ea0d-4b22-b906-f8d32740ecc0",
   "metadata": {},
   "outputs": [
    {
     "data": {
      "image/png": "[encoded data removed]",
      "text/plain": [
       "<Figure size 640x480 with 1 Axes>"
      ]
     },
     "metadata": {},
     "output_type": "display_data"
    }
   ],
   "source": [
    "plt.plot(dados_mercado[\"IBOVESPA\"])\n",
    "plt.title(\"IBOVESPA\")\n",
    "\n",
    "plt.savefig(\"ibovespa.png\")"
   ]
  },
  {
   "cell_type": "code",
   "execution_count": 17,
   "id": "c4efb7b8-fd0f-4ac3-b39d-673975d648c7",
   "metadata": {},
   "outputs": [
    {
     "data": {
      "image/png": "[encoded data removed]",
      "text/plain": [
       "<Figure size 640x480 with 1 Axes>"
      ]
     },
     "metadata": {},
     "output_type": "display_data"
    }
   ],
   "source": [
    "plt.plot(dados_mercado[\"DOLAR\"])\n",
    "plt.title(\"DOLAR\")\n",
    "\n",
    "plt.savefig(\"dolar.png\")"
   ]
  },
  {
   "cell_type": "code",
   "execution_count": 19,
   "id": "c4699e23-0006-4a44-b0ac-e86f35287344",
   "metadata": {},
   "outputs": [
    {
     "data": {
      "image/png": "[encoded data removed]",
      "text/plain": [
       "<Figure size 640x480 with 1 Axes>"
      ]
     },
     "metadata": {},
     "output_type": "display_data"
    }
   ],
   "source": [
    "plt.plot(dados_mercado[\"S&P500\"])\n",
    "plt.title(\"S&P500\")\n",
    "\n",
    "plt.savefig(\"sp500.png\")"
   ]
  },
  {
   "cell_type": "markdown",
   "id": "55e9dd22-9665-4530-895a-6b1100869682",
   "metadata": {},
   "source": [
    "# Passo 5 - Calcular retornos diários"
   ]
  },
  {
   "cell_type": "code",
   "execution_count": 22,
   "id": "4138b313-9e6b-4831-8a95-4876db666b0d",
   "metadata": {},
   "outputs": [
    {
     "data": {
      "text/html": [
       "<div>\n",
       "<style scoped>\n",
       "    .dataframe tbody tr th:only-of-type {\n",
       "        vertical-align: middle;\n",
       "    }\n",
       "\n",
       "    .dataframe tbody tr th {\n",
       "        vertical-align: top;\n",
       "    }\n",
       "\n",
       "    .dataframe thead th {\n",
       "        text-align: right;\n",
       "    }\n",
       "</style>\n",
       "<table border=\"1\" class=\"dataframe\">\n",
       "  <thead>\n",
       "    <tr style=\"text-align: right;\">\n",
       "      <th></th>\n",
       "      <th>DOLAR</th>\n",
       "      <th>IBOVESPA</th>\n",
       "      <th>S&amp;P500</th>\n",
       "    </tr>\n",
       "    <tr>\n",
       "      <th>Date</th>\n",
       "      <th></th>\n",
       "      <th></th>\n",
       "      <th></th>\n",
       "    </tr>\n",
       "  </thead>\n",
       "  <tbody>\n",
       "    <tr>\n",
       "      <th>2024-03-14 00:00:00+00:00</th>\n",
       "      <td>NaN</td>\n",
       "      <td>NaN</td>\n",
       "      <td>NaN</td>\n",
       "    </tr>\n",
       "    <tr>\n",
       "      <th>2024-03-15 00:00:00+00:00</th>\n",
       "      <td>0.004729</td>\n",
       "      <td>-0.007424</td>\n",
       "      <td>-0.006483</td>\n",
       "    </tr>\n",
       "    <tr>\n",
       "      <th>2024-03-18 00:00:00+00:00</th>\n",
       "      <td>-0.004938</td>\n",
       "      <td>0.001673</td>\n",
       "      <td>0.006318</td>\n",
       "    </tr>\n",
       "    <tr>\n",
       "      <th>2024-03-19 00:00:00+00:00</th>\n",
       "      <td>0.012349</td>\n",
       "      <td>0.004529</td>\n",
       "      <td>0.005649</td>\n",
       "    </tr>\n",
       "    <tr>\n",
       "      <th>2024-03-20 00:00:00+00:00</th>\n",
       "      <td>0.000119</td>\n",
       "      <td>0.012515</td>\n",
       "      <td>0.008904</td>\n",
       "    </tr>\n",
       "    <tr>\n",
       "      <th>...</th>\n",
       "      <td>...</td>\n",
       "      <td>...</td>\n",
       "      <td>...</td>\n",
       "    </tr>\n",
       "    <tr>\n",
       "      <th>2024-09-06 00:00:00+00:00</th>\n",
       "      <td>-0.013205</td>\n",
       "      <td>-0.014139</td>\n",
       "      <td>-0.017260</td>\n",
       "    </tr>\n",
       "    <tr>\n",
       "      <th>2024-09-09 00:00:00+00:00</th>\n",
       "      <td>0.005227</td>\n",
       "      <td>0.001226</td>\n",
       "      <td>0.011580</td>\n",
       "    </tr>\n",
       "    <tr>\n",
       "      <th>2024-09-10 00:00:00+00:00</th>\n",
       "      <td>-0.002198</td>\n",
       "      <td>-0.003095</td>\n",
       "      <td>0.004473</td>\n",
       "    </tr>\n",
       "    <tr>\n",
       "      <th>2024-09-11 00:00:00+00:00</th>\n",
       "      <td>0.014075</td>\n",
       "      <td>0.002658</td>\n",
       "      <td>0.010665</td>\n",
       "    </tr>\n",
       "    <tr>\n",
       "      <th>2024-09-12 00:00:00+00:00</th>\n",
       "      <td>0.000795</td>\n",
       "      <td>-0.004812</td>\n",
       "      <td>0.007495</td>\n",
       "    </tr>\n",
       "  </tbody>\n",
       "</table>\n",
       "<p>124 rows × 3 columns</p>\n",
       "</div>"
      ],
      "text/plain": [
       "                              DOLAR  IBOVESPA    S&P500\n",
       "Date                                                   \n",
       "2024-03-14 00:00:00+00:00       NaN       NaN       NaN\n",
       "2024-03-15 00:00:00+00:00  0.004729 -0.007424 -0.006483\n",
       "2024-03-18 00:00:00+00:00 -0.004938  0.001673  0.006318\n",
       "2024-03-19 00:00:00+00:00  0.012349  0.004529  0.005649\n",
       "2024-03-20 00:00:00+00:00  0.000119  0.012515  0.008904\n",
       "...                             ...       ...       ...\n",
       "2024-09-06 00:00:00+00:00 -0.013205 -0.014139 -0.017260\n",
       "2024-09-09 00:00:00+00:00  0.005227  0.001226  0.011580\n",
       "2024-09-10 00:00:00+00:00 -0.002198 -0.003095  0.004473\n",
       "2024-09-11 00:00:00+00:00  0.014075  0.002658  0.010665\n",
       "2024-09-12 00:00:00+00:00  0.000795 -0.004812  0.007495\n",
       "\n",
       "[124 rows x 3 columns]"
      ]
     },
     "execution_count": 22,
     "metadata": {},
     "output_type": "execute_result"
    }
   ],
   "source": [
    "retornos_diarios = dados_mercado.pct_change()\r\n",
    "\r\n",
    "retornos_diarios"
   ]
  },
  {
   "cell_type": "code",
   "execution_count": 24,
   "id": "a6921e17-7917-4c86-ba98-fc623964c302",
   "metadata": {},
   "outputs": [
    {
     "data": {
      "text/plain": [
       "-0.0021977654957378023"
      ]
     },
     "execution_count": 24,
     "metadata": {},
     "output_type": "execute_result"
    }
   ],
   "source": [
    "retornos_diarios[\"DOLAR\"].iloc[-3]"
   ]
  },
  {
   "cell_type": "code",
   "execution_count": 26,
   "id": "63c90fd8-3848-418c-91ad-703d632b1b8c",
   "metadata": {},
   "outputs": [],
   "source": [
    "retorno_dolar = retornos_diarios[\"DOLAR\"].iloc[-1]\n",
    "retorno_ibovespa = retornos_diarios[\"IBOVESPA\"].iloc[-1]\n",
    "retorno_sp = retornos_diarios[\"S&P500\"].iloc[-1]"
   ]
  },
  {
   "cell_type": "code",
   "execution_count": 28,
   "id": "84a8f370-fd1d-47d7-ac0f-0bb9ab23ec26",
   "metadata": {},
   "outputs": [
    {
     "data": {
      "text/plain": [
       "'0.08%'"
      ]
     },
     "execution_count": 28,
     "metadata": {},
     "output_type": "execute_result"
    }
   ],
   "source": [
    "retorno_dolar = str(round(retorno_dolar * 100, 2)) + \"%\"\n",
    "\n",
    "retorno_dolar"
   ]
  },
  {
   "cell_type": "code",
   "execution_count": 30,
   "id": "609ed44e-72d0-4c3d-8791-0c22e307f04b",
   "metadata": {},
   "outputs": [
    {
     "data": {
      "text/plain": [
       "'0.75%'"
      ]
     },
     "execution_count": 30,
     "metadata": {},
     "output_type": "execute_result"
    }
   ],
   "source": [
    "retorno_ibovespa = str(round(retorno_ibovespa * 100, 2)) + \"%\"\n",
    "retorno_sp = str(round(retorno_sp * 100, 2)) + \"%\"\n",
    "\n",
    "retorno_sp"
   ]
  },
  {
   "cell_type": "code",
   "execution_count": 32,
   "id": "9da8b48c-8c31-4016-b585-4e36123cb709",
   "metadata": {},
   "outputs": [
    {
     "data": {
      "text/plain": [
       "'-0.48%'"
      ]
     },
     "execution_count": 32,
     "metadata": {},
     "output_type": "execute_result"
    }
   ],
   "source": [
    "retorno_ibovespa"
   ]
  },
  {
   "cell_type": "markdown",
   "id": "6d7fd36a-5769-4e9d-a441-d3e982458d2e",
   "metadata": {},
   "source": [
    "# Passo 6 - Configurar e enviar o e-mailxo_sp)\r\n",
    "\r\n",
    "email.Send()\r\n",
    "\n",
    "\n",
    "\n"
   ]
  },
  {
   "cell_type": "code",
   "execution_count": 34,
   "id": "9182b109-2ed9-4287-a00b-1c28a47648dc",
   "metadata": {},
   "outputs": [
    {
     "name": "stdout",
     "output_type": "stream",
     "text": [
      "Requirement already satisfied: pywin32 in c:\\users\\asus\\anaconda3\\lib\\site-packages (305.1)\n"
     ]
    }
   ],
   "source": [
    "!pip install pywin32"
   ]
  },
  {
   "cell_type": "code",
   "execution_count": 35,
   "id": "18cf0de5-30d9-4c8c-aa72-128318a7f454",
   "metadata": {},
   "outputs": [],
   "source": [
    "import win32com.client as win32"
   ]
  },
  {
   "cell_type": "code",
   "execution_count": 38,
   "id": "786e07e9-37bb-45f3-8990-67155d2515c6",
   "metadata": {},
   "outputs": [
    {
     "ename": "com_error",
     "evalue": "(-2147221005, 'Cadeia de caracteres de classe inválida', None, None)",
     "output_type": "error",
     "traceback": [
      "\u001b[1;31m---------------------------------------------------------------------------\u001b[0m",
      "\u001b[1;31mcom_error\u001b[0m                                 Traceback (most recent call last)",
      "File \u001b[1;32m~\\anaconda3\\Lib\\site-packages\\win32com\\client\\dynamic.py:86\u001b[0m, in \u001b[0;36m_GetGoodDispatch\u001b[1;34m(IDispatch, clsctx)\u001b[0m\n\u001b[0;32m     85\u001b[0m \u001b[38;5;28;01mtry\u001b[39;00m:\n\u001b[1;32m---> 86\u001b[0m     IDispatch \u001b[38;5;241m=\u001b[39m pythoncom\u001b[38;5;241m.\u001b[39mconnect(IDispatch)\n\u001b[0;32m     87\u001b[0m \u001b[38;5;28;01mexcept\u001b[39;00m pythoncom\u001b[38;5;241m.\u001b[39mole_error:\n",
      "\u001b[1;31mcom_error\u001b[0m: (-2147221005, 'Cadeia de caracteres de classe inválida', None, None)",
      "\nDuring handling of the above exception, another exception occurred:\n",
      "\u001b[1;31mcom_error\u001b[0m                                 Traceback (most recent call last)",
      "Cell \u001b[1;32mIn[38], line 1\u001b[0m\n\u001b[1;32m----> 1\u001b[0m outlook \u001b[38;5;241m=\u001b[39m win32\u001b[38;5;241m.\u001b[39mDispatch(\u001b[38;5;124m\"\u001b[39m\u001b[38;5;124moutlook.application\u001b[39m\u001b[38;5;124m\"\u001b[39m) \n\u001b[0;32m      3\u001b[0m email \u001b[38;5;241m=\u001b[39m outlook\u001b[38;5;241m.\u001b[39mCreateItem(\u001b[38;5;241m0\u001b[39m)\n",
      "File \u001b[1;32m~\\anaconda3\\Lib\\site-packages\\win32com\\client\\__init__.py:117\u001b[0m, in \u001b[0;36mDispatch\u001b[1;34m(dispatch, userName, resultCLSID, typeinfo, UnicodeToString, clsctx)\u001b[0m\n\u001b[0;32m    115\u001b[0m \u001b[38;5;250m\u001b[39m\u001b[38;5;124;03m\"\"\"Creates a Dispatch based COM object.\"\"\"\u001b[39;00m\n\u001b[0;32m    116\u001b[0m \u001b[38;5;28;01massert\u001b[39;00m UnicodeToString \u001b[38;5;129;01mis\u001b[39;00m \u001b[38;5;28;01mNone\u001b[39;00m, \u001b[38;5;124m\"\u001b[39m\u001b[38;5;124mthis is deprecated and will go away\u001b[39m\u001b[38;5;124m\"\u001b[39m\n\u001b[1;32m--> 117\u001b[0m dispatch, userName \u001b[38;5;241m=\u001b[39m dynamic\u001b[38;5;241m.\u001b[39m_GetGoodDispatchAndUserName(dispatch, userName, clsctx)\n\u001b[0;32m    118\u001b[0m \u001b[38;5;28;01mreturn\u001b[39;00m __WrapDispatch(dispatch, userName, resultCLSID, typeinfo, clsctx\u001b[38;5;241m=\u001b[39mclsctx)\n",
      "File \u001b[1;32m~\\anaconda3\\Lib\\site-packages\\win32com\\client\\dynamic.py:106\u001b[0m, in \u001b[0;36m_GetGoodDispatchAndUserName\u001b[1;34m(IDispatch, userName, clsctx)\u001b[0m\n\u001b[0;32m    103\u001b[0m     \u001b[38;5;66;03m## ??? else userName remains None ???\u001b[39;00m\n\u001b[0;32m    104\u001b[0m \u001b[38;5;28;01melse\u001b[39;00m:\n\u001b[0;32m    105\u001b[0m     userName \u001b[38;5;241m=\u001b[39m \u001b[38;5;28mstr\u001b[39m(userName)\n\u001b[1;32m--> 106\u001b[0m \u001b[38;5;28;01mreturn\u001b[39;00m (_GetGoodDispatch(IDispatch, clsctx), userName)\n",
      "File \u001b[1;32m~\\anaconda3\\Lib\\site-packages\\win32com\\client\\dynamic.py:88\u001b[0m, in \u001b[0;36m_GetGoodDispatch\u001b[1;34m(IDispatch, clsctx)\u001b[0m\n\u001b[0;32m     86\u001b[0m         IDispatch \u001b[38;5;241m=\u001b[39m pythoncom\u001b[38;5;241m.\u001b[39mconnect(IDispatch)\n\u001b[0;32m     87\u001b[0m     \u001b[38;5;28;01mexcept\u001b[39;00m pythoncom\u001b[38;5;241m.\u001b[39mole_error:\n\u001b[1;32m---> 88\u001b[0m         IDispatch \u001b[38;5;241m=\u001b[39m pythoncom\u001b[38;5;241m.\u001b[39mCoCreateInstance(\n\u001b[0;32m     89\u001b[0m             IDispatch, \u001b[38;5;28;01mNone\u001b[39;00m, clsctx, pythoncom\u001b[38;5;241m.\u001b[39mIID_IDispatch\n\u001b[0;32m     90\u001b[0m         )\n\u001b[0;32m     91\u001b[0m \u001b[38;5;28;01melse\u001b[39;00m:\n\u001b[0;32m     92\u001b[0m     \u001b[38;5;66;03m# may already be a wrapped class.\u001b[39;00m\n\u001b[0;32m     93\u001b[0m     IDispatch \u001b[38;5;241m=\u001b[39m \u001b[38;5;28mgetattr\u001b[39m(IDispatch, \u001b[38;5;124m\"\u001b[39m\u001b[38;5;124m_oleobj_\u001b[39m\u001b[38;5;124m\"\u001b[39m, IDispatch)\n",
      "\u001b[1;31mcom_error\u001b[0m: (-2147221005, 'Cadeia de caracteres de classe inválida', None, None)"
     ]
    }
   ],
   "source": [
    "outlook = win32.Dispatch(\"outlook.application\") \n",
    "\n",
    "email = outlook.CreateItem(0)"
   ]
  },
  {
   "cell_type": "code",
   "execution_count": 40,
   "id": "e36bcadb-f001-49eb-a656-7f4fd472b476",
   "metadata": {},
   "outputs": [
    {
     "ename": "NameError",
     "evalue": "name 'email' is not defined",
     "output_type": "error",
     "traceback": [
      "\u001b[1;31m---------------------------------------------------------------------------\u001b[0m",
      "\u001b[1;31mNameError\u001b[0m                                 Traceback (most recent call last)",
      "Cell \u001b[1;32mIn[40], line 1\u001b[0m\n\u001b[1;32m----> 1\u001b[0m email\u001b[38;5;241m.\u001b[39mTo \u001b[38;5;241m=\u001b[39m \u001b[38;5;124m\"\u001b[39m\u001b[38;5;124mevento@varos.com.br\u001b[39m\u001b[38;5;124m\"\u001b[39m\n\u001b[0;32m      2\u001b[0m email\u001b[38;5;241m.\u001b[39mSubject \u001b[38;5;241m=\u001b[39m \u001b[38;5;124m\"\u001b[39m\u001b[38;5;124mRelatório de Mercado\u001b[39m\u001b[38;5;124m\"\u001b[39m\n\u001b[0;32m      3\u001b[0m email\u001b[38;5;241m.\u001b[39mBody \u001b[38;5;241m=\u001b[39m \u001b[38;5;124mf\u001b[39m\u001b[38;5;124m'''\u001b[39m\u001b[38;5;124mPrezado diretor, segue o relatório de mercado:\u001b[39m\n\u001b[0;32m      4\u001b[0m \n\u001b[0;32m      5\u001b[0m \u001b[38;5;124m* O Ibovespa teve o retorno de \u001b[39m\u001b[38;5;132;01m{\u001b[39;00mretorno_ibovespa\u001b[38;5;132;01m}\u001b[39;00m\u001b[38;5;124m.\u001b[39m\n\u001b[1;32m   (...)\u001b[0m\n\u001b[0;32m     14\u001b[0m \n\u001b[0;32m     15\u001b[0m \u001b[38;5;124m'''\u001b[39m\n",
      "\u001b[1;31mNameError\u001b[0m: name 'email' is not defined"
     ]
    }
   ],
   "source": [
    "email.To = \"evento@varos.com.br\"\n",
    "email.Subject = \"Relatório de Mercado\"\n",
    "email.Body = f'''Prezado diretor, segue o relatório de mercado:\n",
    "\n",
    "* O Ibovespa teve o retorno de {retorno_ibovespa}.\n",
    "* O Dólar teve o retorno de {retorno_dolar}.\n",
    "* O S&P500 teve o retorno de {retorno_sp}.\n",
    "\n",
    "Segue em anexo a peformance dos ativos nos últimos 6 meses.\n",
    "\n",
    "Att,\n",
    "Melhor estagiário do mundo\n",
    "\n",
    "\n",
    "'''\n",
    "\n",
    "anexo_ibovespa = r\"C:\\Users\\VAROS\\Downloads\\ibovespa.png\"\n",
    "anexo_dolar = r\"C:\\Users\\VAROS\\Downloads\\dolar.png\"\n",
    "anexo_sp = r\"C:\\Users\\VAROS\\Downloads\\sp500.png\"\n",
    "\n",
    "email.Attachments.Add(anexo_ibovespa)\n",
    "email.Attachments.Add(anexo_dolar)\n",
    "email.Attachments.Add(anexo_sp)\n",
    "\n",
    "email.Send()"
   ]
  },
  {
   "cell_type": "markdown",
   "id": "755f2102-76a0-4782-9014-fa6d1e33fea2",
   "metadata": {},
   "source": [
    "PESQUISAR SOBRE 'SMTPLIP' PARA ENVIAR RELATORIOS POR EMAIL"
   ]
  }
 ],
 "metadata": {
  "kernelspec": {
   "display_name": "Python 3 (ipykernel)",
   "language": "python",
   "name": "python3"
  },
  "language_info": {
   "codemirror_mode": {
    "name": "ipython",
    "version": 3
   },
   "file_extension": ".py",
   "mimetype": "text/x-python",
   "name": "python",
   "nbconvert_exporter": "python",
   "pygments_lexer": "ipython3",
   "version": "3.12.4"
  }
 },
 "nbformat": 4,
 "nbformat_minor": 5
}
